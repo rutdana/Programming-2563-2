{
 "cells": [
  {
   "cell_type": "markdown",
   "metadata": {},
   "source": [
    "## Bank.py"
   ]
  },
  {
   "cell_type": "code",
   "execution_count": null,
   "metadata": {},
   "outputs": [
    {
     "name": "stdout",
     "output_type": "stream",
     "text": [
      "\n",
      "\n",
      "choose: 1 >> เคาน์เตอร์ 1 รับลูกค้า \tchoose: 2 >> เคาน์เตอร์ 2 รับลูกค้า\t3. >> ลูกค้ารออยู่,and 0 > quit\n",
      "\n",
      "\n",
      "\n"
     ]
    }
   ],
   "source": [
    "#!/usr/bin/env python\n",
    "# coding: utf-8\n",
    "\n",
    "# In[5]:\n",
    "\n",
    "\n",
    "class Queue:\n",
    "    def __init__(self):\n",
    "        self.items = []\n",
    "\n",
    "    def is_empty(self):\n",
    "        return self.items == []\n",
    "\n",
    "    def enqueue(self, items):\n",
    "        self.items.insert(0,items)\n",
    "\n",
    "    def dequeue(self):\n",
    "        return self.items.pop()\n",
    "    def size(self):\n",
    "        return len(self.items)\n",
    "    def show(self):\n",
    "        return self.items\n",
    "\n",
    "def menu() :\n",
    "    print(\"\\n\\nchoose: 1 >> เคาน์เตอร์ 1 รับลูกค้า \\tchoose: 2 >> เคาน์เตอร์ 2 รับลูกค้า\\t3. >> ลูกค้ารออยู่,and 0 > quit\\n\\n\\n\")\n",
    "queue_j = Queue()\n",
    "\n",
    "while True :\n",
    "    menu()\n",
    "    fn_input = int(input(\" กำลังรอลูกค้า :  \"))\n",
    "    customer_waiting = queue_j.size()\n",
    "    if fn_input == 1 :\n",
    "        if customer_waiting > 0 :\n",
    "            dequeue = queue_j.dequeue()\n",
    "            print(\"ลูกค้า ({}) com to เคาน์เตอร์ 1  : \".format(dequeue))\n",
    "            customer_waiting -= 1\n",
    "            print(\" จำนวนลูกค้ารอ : {}\".format(customer_waiting))\n",
    "            print(\" รอลูกค้า >>>  \",queue_j.show())\n",
    "        else:\n",
    "            print(\"จำนวนลูกค้ารอ : {}\".format(customer_waiting))\n",
    "            print(\"ไม่มีใครรอ\")\n",
    "    elif fn_input == 2 :\n",
    "        if customer_waiting > 1 :\n",
    "            dequeue = queue_j.dequeue()\n",
    "            print(\"ลูกค้า({}) com to เคาน์เตอร์ 2  : \".format(dequeue))\n",
    "            customer_waiting -= 1\n",
    "            print(\"จำนวนลูกค้ารอ : {}\".format(customer_waiting))\n",
    "            print(\"รอลูกค้า >>>  \",queue_j.show())\n",
    "        else:\n",
    "            print(\"จำนวนลูกค้ารอ: {}\".format(customer_waiting))\n",
    "            print(\"ไม่มีใครรอ\")\n",
    "    elif fn_input == 3 :\n",
    "            queue_input = input(\"ป้อนชื่อลูกค้า >>>\").strip()\n",
    "            queue_j.enqueue(queue_input)\n",
    "            print(\"จำนวนลูกค้ารอ : {}\".format(customer_waiting))\n",
    "            print(\"รอลูกค้า >>>  \",queue_j.show())\n",
    "    else :\n",
    "        break\n",
    "\n",
    "\n",
    "\n",
    "\n",
    "# In[ ]:"
   ]
  },
  {
   "cell_type": "markdown",
   "metadata": {},
   "source": [
    "## Palindrome.py\n",
    "\n"
   ]
  },
  {
   "cell_type": "code",
   "execution_count": 2,
   "metadata": {},
   "outputs": [
    {
     "name": "stdout",
     "output_type": "stream",
     "text": [
      "False\n",
      "True\n"
     ]
    }
   ],
   "source": [
    "#!/usr/bin/env python\n",
    "# coding: utf-8\n",
    "\n",
    "# In[13]:\n",
    "\n",
    "\n",
    "class Qeque_byJ :\n",
    "    def __init__(self):\n",
    "        self.items = []\n",
    "    def is_empty(self):\n",
    "        return self.items == []\n",
    "    def add_rear(self,item):\n",
    "        self.items.append(item)\n",
    "    def add_front(self,item):\n",
    "        self.items.insert(0,item)\n",
    "    def remove_rear(self):\n",
    "        return self.items.pop()\n",
    "    def remove_front(self):\n",
    "        return self.items.pop(0)\n",
    "    def size(self):\n",
    "        return len(self.items)\n",
    "    def show(self):\n",
    "        return self.items\n",
    "\n",
    "def Palindrome(text):\n",
    "\n",
    "    Palindrome = Qeque_byJ()\n",
    "    for string in text :\n",
    "        Palindrome.add_rear(string)\n",
    "\n",
    "    status = True\n",
    "\n",
    "    while Palindrome.size() > 1 and status :\n",
    "        front = Palindrome.remove_front()\n",
    "        end = Palindrome.remove_rear()\n",
    "\n",
    "        if front != end :\n",
    "            status = False\n",
    "    return status\n",
    "\n",
    "\n",
    "print(Palindrome(\"abcdefg\"))\n",
    "print(Palindrome(\"radar\"))\n",
    "\n",
    "\n",
    "# In[ ]:\n"
   ]
  },
  {
   "cell_type": "markdown",
   "metadata": {},
   "source": [
    "## Postfix code.py\n"
   ]
  },
  {
   "cell_type": "code",
   "execution_count": 3,
   "metadata": {},
   "outputs": [
    {
     "name": "stdout",
     "output_type": "stream",
     "text": [
      "24\n"
     ]
    }
   ],
   "source": [
    "#!/usr/bin/env python\n",
    "# coding: utf-8\n",
    "\n",
    "# In[ ]:\n",
    "\n",
    "\n",
    "class Stack:\n",
    "    def __init__(self):\n",
    "        self.items = []\n",
    "\n",
    "    def is_empty(self):\n",
    "        return self.items == []\n",
    "\n",
    "    def push(self, items):\n",
    "        self.items.append(items)\n",
    "\n",
    "    def pop(self):\n",
    "        return self.items.pop()\n",
    "\n",
    "    def peek(self):\n",
    "        return self.items[len(self.items) - 1]\n",
    "\n",
    "    def size(self):\n",
    "        return len(self.items)\n",
    "\n",
    "def postfix_byJ(text_input):\n",
    "    # text_input = text_input.split()\n",
    "    stack_j = Stack()\n",
    "    for str in text_input:\n",
    "        if str in \"0123456789\" :\n",
    "            stack_j.push(int(str))\n",
    "        else:\n",
    "            str1 = stack_j.pop()\n",
    "            str2 = stack_j.pop()\n",
    "\n",
    "            math_j = do_math_J(str,str2,str1)\n",
    "            stack_j.push(math_j)\n",
    "    return  stack_j.pop()\n",
    "def do_math_J(op,n1,n2) :\n",
    "    if op == \"+\":\n",
    "        return n1 + n2\n",
    "    elif op == \"-\":\n",
    "        return n1-n2\n",
    "    elif op == \"*\":\n",
    "        return n1 * n2\n",
    "    else :\n",
    "        return n1 / n2\n",
    "\n",
    "\n",
    "print(postfix_byJ(\"22*45*+\"))"
   ]
  }
 ],
 "metadata": {
  "kernelspec": {
   "display_name": "Python 3",
   "language": "python",
   "name": "python3"
  },
  "language_info": {
   "codemirror_mode": {
    "name": "ipython",
    "version": 3
   },
   "file_extension": ".py",
   "mimetype": "text/x-python",
   "name": "python",
   "nbconvert_exporter": "python",
   "pygments_lexer": "ipython3",
   "version": "3.7.6"
  }
 },
 "nbformat": 4,
 "nbformat_minor": 4
}
