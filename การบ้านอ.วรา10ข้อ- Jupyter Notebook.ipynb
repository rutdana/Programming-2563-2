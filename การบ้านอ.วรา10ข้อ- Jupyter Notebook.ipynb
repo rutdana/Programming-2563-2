{
 "cells": [
  {
   "cell_type": "markdown",
   "metadata": {},
   "source": [
    "# นายรุจดนัย รัตน์สำราญ 6310301028\n"
   ]
  },
  {
   "cell_type": "markdown",
   "metadata": {},
   "source": [
    "### Problem 1##"
   ]
  },
  {
   "cell_type": "code",
   "execution_count": 1,
   "metadata": {},
   "outputs": [],
   "source": [
    "listOne = [3 ,6,9,12,15,18,21]\n",
    "listTwo = [4,8,12,16,20,24,28]"
   ]
  },
  {
   "cell_type": "code",
   "execution_count": 2,
   "metadata": {},
   "outputs": [
    {
     "name": "stdout",
     "output_type": "stream",
     "text": [
      "[6, 12, 18]\n"
     ]
    }
   ],
   "source": [
    "print(listOne[1:6:2])"
   ]
  },
  {
   "cell_type": "code",
   "execution_count": 3,
   "metadata": {},
   "outputs": [
    {
     "name": "stdout",
     "output_type": "stream",
     "text": [
      "[4, 12, 20, 28]\n"
     ]
    }
   ],
   "source": [
    "print(listTwo[0:8:2])"
   ]
  },
  {
   "cell_type": "code",
   "execution_count": 4,
   "metadata": {},
   "outputs": [
    {
     "name": "stdout",
     "output_type": "stream",
     "text": [
      "[6, 12, 18, 4, 12, 20, 28]\n"
     ]
    }
   ],
   "source": [
    "print(listOne[1:6:2]+listTwo[0:8:2])"
   ]
  },
  {
   "cell_type": "markdown",
   "metadata": {},
   "source": [
    "### Problem 2 "
   ]
  },
  {
   "cell_type": "code",
   "execution_count": 5,
   "metadata": {},
   "outputs": [],
   "source": [
    "#List = [54,44,27,79,91,42]"
   ]
  },
  {
   "cell_type": "code",
   "execution_count": 6,
   "metadata": {},
   "outputs": [
    {
     "name": "stdout",
     "output_type": "stream",
     "text": [
      "[34, 54, 11, 67, 89, 43, 94, 11]\n"
     ]
    }
   ],
   "source": [
    "Originals_list = [34,54,67,89,11,43,94]\n",
    "Originals_list.pop(4)\n",
    "Originals_list.insert(2,11)\n",
    "Originals_list.append(11)\n",
    "print(Originals_list)"
   ]
  },
  {
   "cell_type": "markdown",
   "metadata": {},
   "source": [
    "### Problem 3\n"
   ]
  },
  {
   "cell_type": "code",
   "execution_count": 7,
   "metadata": {},
   "outputs": [
    {
     "name": "stdout",
     "output_type": "stream",
     "text": [
      "[8, 45, 11]\n",
      "[12, 14, 23]\n",
      "[89, 45, 78]\n"
     ]
    }
   ],
   "source": [
    "Originals_list1= [11,45,8,23,14,12,78,45,89]\n",
    "x= Originals_list1[0:3]\n",
    "x.reverse()\n",
    "print(x)\n",
    "z= Originals_list1[3:6]\n",
    "z.reverse()\n",
    "print(z)\n",
    "k= Originals_list1[6:9]\n",
    "k.reverse()\n",
    "print(k)\n"
   ]
  },
  {
   "cell_type": "markdown",
   "metadata": {},
   "source": [
    "### Problem 4"
   ]
  },
  {
   "cell_type": "code",
   "execution_count": 8,
   "metadata": {},
   "outputs": [
    {
     "name": "stdout",
     "output_type": "stream",
     "text": [
      "11 มีทังหมด \n",
      " > 2  ตัว \n",
      "45 มีทังหมด \n",
      " > 3  ตัว \n",
      "8 มีทังหมด \n",
      " > 1  ตัว \n",
      "23 มีทังหมด \n",
      " > 2  ตัว \n"
     ]
    }
   ],
   "source": [
    "Originals_list2= [11,45,8,11,23,45,23,45,89]\n",
    "z= Originals_list2.count(11)\n",
    "print(\"11 มีทังหมด \\n >\",z,\" ตัว \")\n",
    "x= Originals_list2.count(45)\n",
    "print(\"45 มีทังหมด \\n >\",x,\" ตัว \")\n",
    "a= Originals_list2.count(8)\n",
    "print(\"8 มีทังหมด \\n >\",a,\" ตัว \")\n",
    "b= Originals_list2.count(23)\n",
    "print(\"23 มีทังหมด \\n >\",b,\" ตัว \")\n",
    "d= Originals_list2.count(89)\n"
   ]
  },
  {
   "cell_type": "code",
   "execution_count": 10,
   "metadata": {},
   "outputs": [
    {
     "name": "stdout",
     "output_type": "stream",
     "text": [
      "{'11': 2, '45': 3, '8': 1, '23': 2, '89': 1}\n"
     ]
    }
   ],
   "source": [
    "dict_a= {\n",
    "     \"11\" :z,\n",
    "     \"45\" :x,\n",
    "     \"8\" :a,\n",
    "     \"23\" :b,\n",
    "     \"89\" :d\n",
    "}\n",
    "print(dict_a)"
   ]
  },
  {
   "cell_type": "markdown",
   "metadata": {},
   "source": [
    "### Problem 5"
   ]
  },
  {
   "cell_type": "code",
   "execution_count": 11,
   "metadata": {},
   "outputs": [
    {
     "name": "stdout",
     "output_type": "stream",
     "text": [
      "[2, 3, 4, 5, 6, 7, 8]\n",
      "[4, 9, 16, 25, 36, 49, 64]\n",
      "{(6, 36), (8, 64), (4, 16), (5, 25), (3, 9), (7, 49), (2, 4)}\n"
     ]
    }
   ],
   "source": [
    "First_List = ([2,3,4,5,6,7,8])\n",
    "Second_List = ([4,9,16,25,36,49,64])\n",
    "Result = {(6,36),(8,64),(4,16),(5,25),(3,9),(7,49),(2,4),}\n",
    "print(First_List)\n",
    "print(Second_List)\n",
    "print(Result)\n"
   ]
  },
  {
   "cell_type": "markdown",
   "metadata": {},
   "source": [
    "### Problem 6"
   ]
  },
  {
   "cell_type": "code",
   "execution_count": 12,
   "metadata": {},
   "outputs": [
    {
     "name": "stdout",
     "output_type": "stream",
     "text": [
      "{57, 83, 29}\n"
     ]
    }
   ],
   "source": [
    "First_set = {65,42,78,83,23,57,29}\n",
    "Second_set = {67,73,43,48,83,57,29}\n",
    "print(First_set.intersection(Second_set))\n"
   ]
  },
  {
   "cell_type": "code",
   "execution_count": 13,
   "metadata": {},
   "outputs": [
    {
     "name": "stdout",
     "output_type": "stream",
     "text": [
      "{65, 42, 78, 23, 57, 29}\n"
     ]
    }
   ],
   "source": [
    "First_set.remove(83)\n",
    "print(First_set)"
   ]
  },
  {
   "cell_type": "markdown",
   "metadata": {},
   "source": [
    "### Problem 7"
   ]
  },
  {
   "cell_type": "code",
   "execution_count": 14,
   "metadata": {},
   "outputs": [],
   "source": [
    "#FirstSet = {27,43,34}\n",
    "#seconSet = {34,93,22,27,43,53,48}"
   ]
  },
  {
   "cell_type": "code",
   "execution_count": 15,
   "metadata": {},
   "outputs": [
    {
     "name": "stdout",
     "output_type": "stream",
     "text": [
      "True\n"
     ]
    }
   ],
   "source": [
    "Firstset = {57,83,29}\n",
    "Secondset = {67,73,43,48,83,57,29}\n",
    "print(Firstset.issubset(Secondset))"
   ]
  },
  {
   "cell_type": "code",
   "execution_count": 16,
   "metadata": {},
   "outputs": [
    {
     "name": "stdout",
     "output_type": "stream",
     "text": [
      "False\n"
     ]
    }
   ],
   "source": [
    "Firstset = {57,83,29}\n",
    "Secondset = {67,73,43,48,83,57,29}\n",
    "print(Secondset.issubset(Firstset))"
   ]
  },
  {
   "cell_type": "markdown",
   "metadata": {},
   "source": [
    "### Problem 8"
   ]
  },
  {
   "cell_type": "code",
   "execution_count": 7,
   "metadata": {},
   "outputs": [
    {
     "name": "stdout",
     "output_type": "stream",
     "text": [
      "after removing unwanted elements from list [47, 69, 76, 97]\n"
     ]
    }
   ],
   "source": [
    "rollNumber  = [47,64,69,37,76,83,95,97]\n",
    "sampleDict    = {'Jhon':47,'Emma':69,'Kelly':76,'Jason':97}\n",
    "sampleDict    =sampleDict.values()\n",
    "list = []\n",
    "for item in rollNumber :\n",
    "      if (item in sampleDict ):\n",
    "            list.append(item)\n",
    "print(\"after removing unwanted elements from list\",list)"
   ]
  },
  {
   "cell_type": "markdown",
   "metadata": {},
   "source": [
    "## Promblem 9\n"
   ]
  },
  {
   "cell_type": "code",
   "execution_count": 1,
   "metadata": {},
   "outputs": [
    {
     "data": {
      "text/plain": [
       "[47, 52, 44, 53, 54]"
      ]
     },
     "execution_count": 1,
     "metadata": {},
     "output_type": "execute_result"
    }
   ],
   "source": [
    "speed = {'jan':47,'feb':52,'march':47,'April':44,'May':52,'June':53,'july':54,'Aug':44,'Sept':54}\n",
    "values_new = speed.values()\n",
    "tmp = []\n",
    "for i in values_new :\n",
    "    if i not in tmp :\n",
    "        tmp.append(i)\n",
    "tmp"
   ]
  },
  {
   "cell_type": "markdown",
   "metadata": {},
   "source": [
    "## Promblem 10\n"
   ]
  },
  {
   "cell_type": "code",
   "execution_count": 2,
   "metadata": {},
   "outputs": [
    {
     "name": "stdout",
     "output_type": "stream",
     "text": [
      "For Example :\n",
      "sampleList =  [87, 45, 41, 65, 94, 41, 99, 94]\n",
      "Expected Outcome :\n",
      "unique items =  [87, 45, 41, 65, 94, 99]\n",
      "tuple =  (87, 45, 41, 65, 94, 99)\n",
      "min :  41 max :  99\n"
     ]
    }
   ],
   "source": [
    "sample = [87,45,41,65,94,41,99,94]\n",
    "print(\"For Example :\")\n",
    "print(\"sampleList = \",sample)\n",
    "tmp = []\n",
    "for i in sample :\n",
    "    if i not in tmp :\n",
    "        tmp.append(i)\n",
    "sample = tmp\n",
    "print(\"Expected Outcome :\")\n",
    "print(\"unique items = \",sample)\n",
    "print(\"tuple = \",tuple(sample))\n",
    "print(\"min : \",min(sample),'max : ',max(sample))"
   ]
  },
  {
   "cell_type": "code",
   "execution_count": null,
   "metadata": {},
   "outputs": [],
   "source": []
  }
 ],
 "metadata": {
  "kernelspec": {
   "display_name": "Python 3",
   "language": "python",
   "name": "python3"
  },
  "language_info": {
   "codemirror_mode": {
    "name": "ipython",
    "version": 3
   },
   "file_extension": ".py",
   "mimetype": "text/x-python",
   "name": "python",
   "nbconvert_exporter": "python",
   "pygments_lexer": "ipython3",
   "version": "3.7.6"
  }
 },
 "nbformat": 4,
 "nbformat_minor": 4
}
